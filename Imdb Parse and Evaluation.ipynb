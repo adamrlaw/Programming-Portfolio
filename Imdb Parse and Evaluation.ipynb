{
 "cells": [
  {
   "cell_type": "code",
   "execution_count": 1,
   "metadata": {},
   "outputs": [],
   "source": [
    "import requests\n",
    "from bs4 import BeautifulSoup as bs\n",
    "import pandas as pd\n",
    "import time\n",
    "import re\n",
    "import numpy as np\n",
    "\n",
    "req_headers = {\n",
    "    'accept': 'text/html,application/xhtml+xml,application/xml;q=0.9,image/webp,image/apng,*/*;q=0.8',\n",
    "    'accept-encoding': 'gzip, deflate, br',\n",
    "    'accept-language': 'en-US,en;q=0.8',\n",
    "    'upgrade-insecure-requests': '1',\n",
    "    'user-agent': 'Mozilla/5.0 (Windows NT 10.0; Win64; x64) AppleWebKit/537.36 (KHTML, like Gecko) Chrome/61.0.3163.100 Safari/537.36'}\n",
    "\n",
    "url = 'https://www.imdb.com/search/title?title_type=feature&release_date=1994-01-01,1994-12-31&sort=moviemeter,asc&page=1&ref_=adv_prv'\n",
    "\n",
    "url1 = 'https://www.imdb.com/search/title?title_type=feature&release_date='\n",
    "url2 = '-01-01,'\n",
    "url3 = '-12-31&sort=num_votes,desc&page='\n",
    "url4 = '&ref_=adv_prv'\n",
    "    "
   ]
  },
  {
   "cell_type": "code",
   "execution_count": 2,
   "metadata": {},
   "outputs": [],
   "source": [
    "names = []\n",
    "years = []\n",
    "imdb_ratings = []\n",
    "meta = []\n",
    "votes = []\n",
    "gross = []\n"
   ]
  },
  {
   "cell_type": "code",
   "execution_count": 3,
   "metadata": {},
   "outputs": [
    {
     "name": "stdout",
     "output_type": "stream",
     "text": [
      "200\n",
      "200\n",
      "200\n",
      "200\n",
      "200\n",
      "200\n",
      "200\n",
      "200\n",
      "200\n",
      "200\n",
      "200\n",
      "200\n",
      "200\n",
      "200\n",
      "200\n",
      "200\n",
      "200\n",
      "200\n",
      "200\n",
      "200\n",
      "200\n"
     ]
    }
   ],
   "source": [
    "yearrange = range(2010,2017)\n",
    "pagerange = range(1,4)\n",
    "\n",
    "counter = 0\n",
    "\n",
    "for year in yearrange:\n",
    "    \n",
    "    for page in pagerange:\n",
    "        \n",
    "        time.sleep(10)\n",
    "    \n",
    "        with requests.Session() as s:\n",
    "            response = s.get(url1+str(year)+url2+str(year)+url3+str(page)+url4, headers=req_headers)\n",
    "            counter = counter + 1\n",
    "            print(response.status_code)\n",
    "            soup = bs(response.text, 'html.parser')\n",
    "            movie_containers = soup.find_all('div', class_ = 'lister-item mode-advanced')\n",
    "            for container in movie_containers:\n",
    "        \n",
    "                if container.find('span', class_ = 'metascore favorable') != None:\n",
    "        \n",
    "                    name = container.h3.a.text\n",
    "                    names.append(name)\n",
    "        \n",
    "                    year = container.find('span', class_ = 'lister-item-year text-muted unbold')\n",
    "                    year = year.get_text()\n",
    "                    years.append(year)\n",
    "        \n",
    "                    imdb = float(container.strong.text)\n",
    "                    imdb_ratings.append(imdb)\n",
    "        \n",
    "                    met = container.find('span', class_ = 'metascore favorable')\n",
    "                    met = int(met.get_text())\n",
    "                    meta.append(met)\n",
    "        \n",
    "                    vote = container.find('span', {'name':'nv'})\n",
    "                    vote = vote.text\n",
    "                    vote = vote.replace(',','')\n",
    "                    votes.append(int(vote))\n",
    "        \n",
    "                    #money = container.find_all('span',{'name':'nv'})\n",
    "                    #money = money[1]\n",
    "                    #gross.append(money.get_text())\n",
    "        "
   ]
  },
  {
   "cell_type": "code",
   "execution_count": 4,
   "metadata": {},
   "outputs": [],
   "source": [
    "df = pd.DataFrame({'Names': names, 'Year': years, 'imdb_rating': imdb_ratings, 'meta':meta, 'votes': votes})"
   ]
  },
  {
   "cell_type": "code",
   "execution_count": 5,
   "metadata": {},
   "outputs": [
    {
     "data": {
      "text/plain": [
       "(799, 5)"
      ]
     },
     "execution_count": 5,
     "metadata": {},
     "output_type": "execute_result"
    }
   ],
   "source": [
    "df.shape"
   ]
  },
  {
   "cell_type": "code",
   "execution_count": 9,
   "metadata": {},
   "outputs": [],
   "source": [
    "df.sort_values('votes', ascending=False, inplace=True)"
   ]
  },
  {
   "cell_type": "code",
   "execution_count": 12,
   "metadata": {},
   "outputs": [],
   "source": [
    "df.drop_duplicates(inplace=True)"
   ]
  },
  {
   "cell_type": "code",
   "execution_count": 13,
   "metadata": {},
   "outputs": [
    {
     "data": {
      "text/plain": [
       "(259, 5)"
      ]
     },
     "execution_count": 13,
     "metadata": {},
     "output_type": "execute_result"
    }
   ],
   "source": [
    "df.shape"
   ]
  },
  {
   "cell_type": "code",
   "execution_count": 17,
   "metadata": {},
   "outputs": [],
   "source": [
    "df = df.reset_index()"
   ]
  },
  {
   "cell_type": "code",
   "execution_count": 22,
   "metadata": {},
   "outputs": [],
   "source": [
    "df.drop('index', axis=1, inplace=True)"
   ]
  },
  {
   "cell_type": "code",
   "execution_count": 24,
   "metadata": {},
   "outputs": [
    {
     "data": {
      "text/html": [
       "<div>\n",
       "<style scoped>\n",
       "    .dataframe tbody tr th:only-of-type {\n",
       "        vertical-align: middle;\n",
       "    }\n",
       "\n",
       "    .dataframe tbody tr th {\n",
       "        vertical-align: top;\n",
       "    }\n",
       "\n",
       "    .dataframe thead th {\n",
       "        text-align: right;\n",
       "    }\n",
       "</style>\n",
       "<table border=\"1\" class=\"dataframe\">\n",
       "  <thead>\n",
       "    <tr style=\"text-align: right;\">\n",
       "      <th></th>\n",
       "      <th>Names</th>\n",
       "      <th>Year</th>\n",
       "      <th>imdb_rating</th>\n",
       "      <th>meta</th>\n",
       "      <th>votes</th>\n",
       "    </tr>\n",
       "  </thead>\n",
       "  <tbody>\n",
       "    <tr>\n",
       "      <th>0</th>\n",
       "      <td>Inception</td>\n",
       "      <td>(2010)</td>\n",
       "      <td>8.8</td>\n",
       "      <td>74</td>\n",
       "      <td>1754388</td>\n",
       "    </tr>\n",
       "    <tr>\n",
       "      <th>1</th>\n",
       "      <td>The Dark Knight Rises</td>\n",
       "      <td>(2012)</td>\n",
       "      <td>8.4</td>\n",
       "      <td>78</td>\n",
       "      <td>1334849</td>\n",
       "    </tr>\n",
       "    <tr>\n",
       "      <th>2</th>\n",
       "      <td>Interstellar</td>\n",
       "      <td>(2014)</td>\n",
       "      <td>8.6</td>\n",
       "      <td>74</td>\n",
       "      <td>1217408</td>\n",
       "    </tr>\n",
       "    <tr>\n",
       "      <th>3</th>\n",
       "      <td>Django Unchained</td>\n",
       "      <td>(2012)</td>\n",
       "      <td>8.4</td>\n",
       "      <td>81</td>\n",
       "      <td>1155978</td>\n",
       "    </tr>\n",
       "    <tr>\n",
       "      <th>4</th>\n",
       "      <td>The Avengers</td>\n",
       "      <td>(2012)</td>\n",
       "      <td>8.1</td>\n",
       "      <td>69</td>\n",
       "      <td>1128360</td>\n",
       "    </tr>\n",
       "    <tr>\n",
       "      <th>5</th>\n",
       "      <td>The Wolf of Wall Street</td>\n",
       "      <td>(2013)</td>\n",
       "      <td>8.2</td>\n",
       "      <td>75</td>\n",
       "      <td>979424</td>\n",
       "    </tr>\n",
       "    <tr>\n",
       "      <th>6</th>\n",
       "      <td>Shutter Island</td>\n",
       "      <td>(2010)</td>\n",
       "      <td>8.1</td>\n",
       "      <td>63</td>\n",
       "      <td>958434</td>\n",
       "    </tr>\n",
       "    <tr>\n",
       "      <th>7</th>\n",
       "      <td>Guardians of the Galaxy</td>\n",
       "      <td>(2014)</td>\n",
       "      <td>8.1</td>\n",
       "      <td>76</td>\n",
       "      <td>879025</td>\n",
       "    </tr>\n",
       "    <tr>\n",
       "      <th>8</th>\n",
       "      <td>Up</td>\n",
       "      <td>(2009)</td>\n",
       "      <td>8.3</td>\n",
       "      <td>88</td>\n",
       "      <td>806148</td>\n",
       "    </tr>\n",
       "    <tr>\n",
       "      <th>9</th>\n",
       "      <td>The Truman Show</td>\n",
       "      <td>(1998)</td>\n",
       "      <td>8.1</td>\n",
       "      <td>90</td>\n",
       "      <td>801197</td>\n",
       "    </tr>\n",
       "    <tr>\n",
       "      <th>10</th>\n",
       "      <td>One Flew Over the Cuckoo's Nest</td>\n",
       "      <td>(1975)</td>\n",
       "      <td>8.7</td>\n",
       "      <td>80</td>\n",
       "      <td>796688</td>\n",
       "    </tr>\n",
       "    <tr>\n",
       "      <th>11</th>\n",
       "      <td>Eternal Sunshine of the Spotless Mind</td>\n",
       "      <td>(2004)</td>\n",
       "      <td>8.3</td>\n",
       "      <td>89</td>\n",
       "      <td>791265</td>\n",
       "    </tr>\n",
       "    <tr>\n",
       "      <th>12</th>\n",
       "      <td>The Lion King</td>\n",
       "      <td>(1994)</td>\n",
       "      <td>8.5</td>\n",
       "      <td>83</td>\n",
       "      <td>789436</td>\n",
       "    </tr>\n",
       "    <tr>\n",
       "      <th>13</th>\n",
       "      <td>Reservoir Dogs</td>\n",
       "      <td>(1992)</td>\n",
       "      <td>8.3</td>\n",
       "      <td>79</td>\n",
       "      <td>789181</td>\n",
       "    </tr>\n",
       "    <tr>\n",
       "      <th>14</th>\n",
       "      <td>Raiders of the Lost Ark</td>\n",
       "      <td>(1981)</td>\n",
       "      <td>8.5</td>\n",
       "      <td>85</td>\n",
       "      <td>776437</td>\n",
       "    </tr>\n",
       "    <tr>\n",
       "      <th>15</th>\n",
       "      <td>The Hunger Games</td>\n",
       "      <td>(2012)</td>\n",
       "      <td>7.2</td>\n",
       "      <td>68</td>\n",
       "      <td>776278</td>\n",
       "    </tr>\n",
       "    <tr>\n",
       "      <th>16</th>\n",
       "      <td>Deadpool</td>\n",
       "      <td>(2016)</td>\n",
       "      <td>8.0</td>\n",
       "      <td>65</td>\n",
       "      <td>767826</td>\n",
       "    </tr>\n",
       "    <tr>\n",
       "      <th>17</th>\n",
       "      <td>Star Wars: The Force Awakens</td>\n",
       "      <td>(2015)</td>\n",
       "      <td>8.0</td>\n",
       "      <td>81</td>\n",
       "      <td>756136</td>\n",
       "    </tr>\n",
       "    <tr>\n",
       "      <th>18</th>\n",
       "      <td>Toy Story</td>\n",
       "      <td>(1995)</td>\n",
       "      <td>8.3</td>\n",
       "      <td>95</td>\n",
       "      <td>754171</td>\n",
       "    </tr>\n",
       "    <tr>\n",
       "      <th>19</th>\n",
       "      <td>Jurassic Park</td>\n",
       "      <td>(1993)</td>\n",
       "      <td>8.1</td>\n",
       "      <td>68</td>\n",
       "      <td>748550</td>\n",
       "    </tr>\n",
       "  </tbody>\n",
       "</table>\n",
       "</div>"
      ],
      "text/plain": [
       "                                    Names    Year  imdb_rating  meta    votes\n",
       "0                               Inception  (2010)          8.8    74  1754388\n",
       "1                   The Dark Knight Rises  (2012)          8.4    78  1334849\n",
       "2                            Interstellar  (2014)          8.6    74  1217408\n",
       "3                        Django Unchained  (2012)          8.4    81  1155978\n",
       "4                            The Avengers  (2012)          8.1    69  1128360\n",
       "5                 The Wolf of Wall Street  (2013)          8.2    75   979424\n",
       "6                          Shutter Island  (2010)          8.1    63   958434\n",
       "7                 Guardians of the Galaxy  (2014)          8.1    76   879025\n",
       "8                                      Up  (2009)          8.3    88   806148\n",
       "9                         The Truman Show  (1998)          8.1    90   801197\n",
       "10        One Flew Over the Cuckoo's Nest  (1975)          8.7    80   796688\n",
       "11  Eternal Sunshine of the Spotless Mind  (2004)          8.3    89   791265\n",
       "12                          The Lion King  (1994)          8.5    83   789436\n",
       "13                         Reservoir Dogs  (1992)          8.3    79   789181\n",
       "14                Raiders of the Lost Ark  (1981)          8.5    85   776437\n",
       "15                       The Hunger Games  (2012)          7.2    68   776278\n",
       "16                               Deadpool  (2016)          8.0    65   767826\n",
       "17           Star Wars: The Force Awakens  (2015)          8.0    81   756136\n",
       "18                              Toy Story  (1995)          8.3    95   754171\n",
       "19                          Jurassic Park  (1993)          8.1    68   748550"
      ]
     },
     "execution_count": 24,
     "metadata": {},
     "output_type": "execute_result"
    }
   ],
   "source": [
    "df.head(20)"
   ]
  },
  {
   "cell_type": "code",
   "execution_count": 29,
   "metadata": {},
   "outputs": [],
   "source": [
    "import re\n",
    "df.Year = df.Year.apply(lambda x: re.search(r'\\d\\d\\d\\d', x).group())\n",
    "df.Year = df.Year.astype(int)"
   ]
  },
  {
   "cell_type": "code",
   "execution_count": 30,
   "metadata": {},
   "outputs": [
    {
     "data": {
      "text/plain": [
       "Names           object\n",
       "Year             int64\n",
       "imdb_rating    float64\n",
       "meta             int64\n",
       "votes            int64\n",
       "dtype: object"
      ]
     },
     "execution_count": 30,
     "metadata": {},
     "output_type": "execute_result"
    }
   ],
   "source": [
    "df.dtypes"
   ]
  },
  {
   "cell_type": "code",
   "execution_count": 47,
   "metadata": {},
   "outputs": [
    {
     "data": {
      "text/plain": [
       "<matplotlib.axes._subplots.AxesSubplot at 0x11783a400>"
      ]
     },
     "execution_count": 47,
     "metadata": {},
     "output_type": "execute_result"
    },
    {
     "data": {
      "image/png": "[encoded data removed]",
      "text/plain": [
       "<matplotlib.figure.Figure at 0x117558978>"
      ]
     },
     "metadata": {},
     "output_type": "display_data"
    }
   ],
   "source": [
    "import matplotlib.pyplot as plt\n",
    "%matplotlib inline\n",
    "df.plot.scatter('imdb_rating','meta', figsize=(10,8))"
   ]
  },
  {
   "cell_type": "code",
   "execution_count": 42,
   "metadata": {},
   "outputs": [
    {
     "data": {
      "text/plain": [
       "<matplotlib.axes._subplots.AxesSubplot at 0x117552e80>"
      ]
     },
     "execution_count": 42,
     "metadata": {},
     "output_type": "execute_result"
    },
    {
     "data": {
      "image/png": "[encoded data removed]",
      "text/plain": [
       "<matplotlib.figure.Figure at 0x11759cfd0>"
      ]
     },
     "metadata": {},
     "output_type": "display_data"
    }
   ],
   "source": [
    "df.groupby('Year')['meta'].mean().plot(kind='bar')"
   ]
  },
  {
   "cell_type": "code",
   "execution_count": 43,
   "metadata": {},
   "outputs": [],
   "source": [
    "#Best Year for Movies was 2006"
   ]
  }
 ],
 "metadata": {
  "kernelspec": {
   "display_name": "Python 3",
   "language": "python",
   "name": "python3"
  },
  "language_info": {
   "codemirror_mode": {
    "name": "ipython",
    "version": 3
   },
   "file_extension": ".py",
   "mimetype": "text/x-python",
   "name": "python",
   "nbconvert_exporter": "python",
   "pygments_lexer": "ipython3",
   "version": "3.6.4"
  }
 },
 "nbformat": 4,
 "nbformat_minor": 2
}
